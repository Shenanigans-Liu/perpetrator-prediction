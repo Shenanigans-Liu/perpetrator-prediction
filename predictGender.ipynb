{
 "cells": [
  {
   "cell_type": "code",
   "execution_count": 3,
   "metadata": {
    "collapsed": false
   },
   "outputs": [
    {
     "name": "stdout",
     "output_type": "stream",
     "text": [
      "Reading data...\n"
     ]
    },
    {
     "name": "stdout",
     "output_type": "stream",
     "text": [
      "done\n"
     ]
    }
   ],
   "source": [
    "import numpy\n",
    "import scipy.optimize\n",
    "import csv\n",
    "\n",
    "from math import exp\n",
    "from math import log\n",
    "from collections import defaultdict\n",
    "from sklearn import svm\n",
    "\n",
    "def parseDataFromFile(fname):\n",
    "    cursor = open(fname,'r')\n",
    "    csvreader = csv.reader(cursor,delimiter=';')\n",
    "    return csvreader\n",
    "      \n",
    "print \"Reading data...\"\n",
    "data = parseDataFromFile(\"Assignment2/database.csv\")\n",
    "data = list(data)\n",
    "print \"done\"\n",
    "\n",
    "\n",
    "### Preprocessing data ###\n",
    "crime_data = [l[0].split(\",\") for l in data[1:]]\n",
    "race_type = defaultdict(int)"
   ]
  },
  {
   "cell_type": "code",
   "execution_count": 5,
   "metadata": {
    "collapsed": true
   },
   "outputs": [],
   "source": [
    "########################\n",
    "#    Define Function   #\n",
    "########################\n",
    "\n",
    "# Logistic regression by gradient ascent\n",
    "# NEGATIVE Log-likelihood\n",
    "def f(theta, X, y, lam):\n",
    "  loglikelihood = 0\n",
    "  for i in range(len(X)):\n",
    "    logit = inner(X[i], theta)\n",
    "    loglikelihood -= log(1 + exp(-logit))\n",
    "    if not y[i]:\n",
    "      loglikelihood -= logit\n",
    "  for k in range(len(theta)):\n",
    "    loglikelihood -= lam * theta[k]*theta[k]\n",
    "  # for debugging\n",
    "  # print \"ll =\", loglikelihood\n",
    "  return -loglikelihood\n",
    "\n",
    "\n",
    "# NEGATIVE Derivative of log-likelihood\n",
    "def fprime(theta, X, y, lam):\n",
    "  dl = [0]*len(theta)\n",
    "  for i in range(len(X)):\n",
    "    logit = inner(X[i], theta)\n",
    "    for k in range(len(theta)):\n",
    "      dl[k] += X[i][k] * (1 - sigmoid(logit))\n",
    "      if not y[i]:\n",
    "        dl[k] -= X[i][k]\n",
    "  for k in range(len(theta)):\n",
    "    dl[k] -= lam*2*theta[k]\n",
    "  return numpy.array([-x for x in dl])\n",
    "\n",
    "# Inner Product\n",
    "def inner(x,y):\n",
    "  return sum([x[i]*y[i] for i in range(len(x))])\n",
    "\n",
    "# Sigmoid function\n",
    "def sigmoid(x):\n",
    "  return 1.0 / (1 + exp(-x))"
   ]
  },
  {
   "cell_type": "code",
   "execution_count": 7,
   "metadata": {
    "collapsed": false
   },
   "outputs": [],
   "source": [
    "##### Predicting Killer Sex #####\n",
    "\n",
    "### data initialization ###\n",
    "month = [0]*12\n",
    "race = [0]*5\n",
    "sex = [0]*3\n",
    "relationship = [0]*27\n",
    "weapon = [0]*16\n",
    "crime_type = [0]*2\n",
    "killer_ethnicity = [0]*3\n",
    "victim_ethnicity = [0]*3\n",
    "\n",
    "train_features = []\n",
    "train_sex = []\n",
    "train_sex_svm = []\n",
    "cnt_male = 0\n",
    "cnt_female = 0\n",
    "\n",
    "\n",
    "### Data Training ###\n",
    "for l in crime_data[:20000]:\n",
    "    if \"Yes\" in l[10] and (\"Male\" or \"Female\" in l[15]):\n",
    "        weapon = [\"Handgun\" in l[20], \"Knife\" in l[20], \"Blunt Object\" in l[20], \"Firearm\" in l[20],\n",
    "                  \"Unknown\" in l[20], \"Shotgun\" in l[20], \"Rifle\" in l[20], \"Strangulation\" in l[20],\n",
    "                  \"Fire\" in l[20], \"Suffocation\" in l[20], \"Gun\" in l[20], \"Drugs\" in l[20],\n",
    "                  \"Drowning\" in l[20], \"Explosives\" in l[20], \"Poison\" in l[20], \"Fall\" in l[20]]\n",
    "        relationship = [\"Stepmother\" in l[19], \"Employee\" in l[19], \"Employer\" in l[19],\n",
    "                        \"Ex-Husband\" in l[19], \"Stepdaughter\" in l[19], \"Stepson\" in l[19],\n",
    "                        \"Sister\" in l[19], \"Stepfather\" in l[19], \"friend\" in l[19],\n",
    "                        \"Common-Law Husband\" in l[19], \"Ex-Wife\" in l[19], \"Common-Law Wife\" in l[19],\n",
    "                        \"In-Law\" in l[19], \"Mother\" in l[19], \"Father\" in l[19],\n",
    "                        \"Brother\" in l[19], \"Neighbor\" in l[19],\n",
    "                        \"Daughter\" in l[19], \"Husband\" in l[19], \"Family\" in l[19],\n",
    "                        \"Son\" in l[19], \"Friend\" in l[19], \"Wife\" in l[19],\n",
    "                        \"Stranger\" in l[19], \"Acquaintance\" in l[19]]\n",
    "        killer_ethnicity = [\"Unknown\" in l[18], l[18] == \"Not Hispanic\", l[18] == \"Hispanic\"]\n",
    "        victim_ethnicity = [\"Unknown\" in l[14], l[14] == \"Not Hispanic\", l[14] == \"Hispanic\"]\n",
    "        victim_race = [\"White\" in l[13], \"Black\" in l[13], \"Native American\" in l[13], \n",
    "                       \"Asian\" in l[13], \"Unknown\" in l[13]]\n",
    "        victim_sex = [\"Male\" in l[11], \"Female\" in l[11]]\n",
    "        victim_age = [int(l[12])]\n",
    "        killer_age = [int(l[16])]\n",
    "        \n",
    "        # Know nothing about the killer\n",
    "        feature_arr = victim_ethnicity + victim_sex + victim_age + victim_race + [1]\n",
    "        \n",
    "        # Train whether the killer is a male or a female\n",
    "        train_sex.append(\"Male\" in l[15])\n",
    "        train_features.append(feature_arr)\n",
    "        \n",
    "        # Using SVM to train\n",
    "        if \"Male\" in l[15]:\n",
    "            train_sex_svm.append(1)\n",
    "        elif \"Female\" in l[15]:\n",
    "            train_sex_svm.append(-1)"
   ]
  },
  {
   "cell_type": "code",
   "execution_count": 9,
   "metadata": {
    "collapsed": false
   },
   "outputs": [
    {
     "name": "stdout",
     "output_type": "stream",
     "text": [
      "TPR 0.718332658843\nTNR 0.584867075665\nBER 0.348400132746\n"
     ]
    }
   ],
   "source": [
    "# weight training\n",
    "clf_w = svm.SVC(class_weight = {1: 1, -1: 5})#[weight_male, weight_female]\"\")\n",
    "clf_w.fit(train_features, train_sex_svm)\n",
    "train_sex_predict_svm = clf_w.predict(train_features)\n",
    "TP = sum([s[0] == s[1] and s[1] == 1 for s in zip(train_sex_predict_svm, train_sex_svm)])\n",
    "TN = sum([s[0] == s[1] and s[1] == -1 for s in zip(train_sex_predict_svm, train_sex_svm)])\n",
    "FP = sum([s[0] != s[1] and s[1] == -1 for s in zip(train_sex_predict_svm, train_sex_svm)])\n",
    "FN = sum([s[0] != s[1] and s[1] == 1 for s in zip(train_sex_predict_svm, train_sex_svm)])\n",
    "TPR = TP * 1.0 / (TP + FN) \n",
    "TNR = TN * 1.0 / (TN + FP)\n",
    "precision = sum([s[0] == s[1] for s in zip(train_sex_predict_svm, train_sex_svm)]) * 1.0 \\\n",
    "                / len(train_sex_predict_svm)\n",
    "recall = sum([s[0] == s[1] and s[1] == 1 for s in zip(train_sex_predict_svm, train_sex_svm)]) * 1.0 \\\n",
    "                / sum([s == 1 for s in train_sex_svm])\n",
    "#F1 = 2 * (precision + recall) * 1.0 / (precision + recall)\n",
    "print \"TPR\", TPR\n",
    "print \"TNR\", TNR\n",
    "print \"BER\", 1 - (TPR + TNR) * 1.0 / 2\n",
    "#print \"F1\", F1"
   ]
  },
  {
   "cell_type": "code",
   "execution_count": 10,
   "metadata": {},
   "outputs": [
    {
     "data": {
      "text/plain": [
       "0.70009083921459014"
      ]
     },
     "execution_count": 10,
     "metadata": {},
     "output_type": "execute_result"
    }
   ],
   "source": [
    "precision"
   ]
  },
  {
   "cell_type": "code",
   "execution_count": 12,
   "metadata": {
    "collapsed": false
   },
   "outputs": [
    {
     "name": "stdout",
     "output_type": "stream",
     "text": [
      "TPR 0.729340348037\nTNR 0.712343180898\nBER 0.279158235532\n"
     ]
    }
   ],
   "source": [
    "# oversampling training\n",
    "from imblearn.over_sampling import SMOTE\n",
    "X = train_features\n",
    "y = train_sex_svm\n",
    "sm = SMOTE(kind='svm')\n",
    "X_resampled, y_resampled = sm.fit_sample(X, y)\n",
    "clf_over = svm.SVC(C=0.1)\n",
    "train_features = X_resampled\n",
    "train_sex_svm = y_resampled\n",
    "clf_over.fit(train_features, train_sex_svm)\n",
    "train_sex_predict_svm = clf_over.predict(train_features)\n",
    "TP = sum([s[0] == s[1] and s[1] == 1 for s in zip(train_sex_predict_svm, train_sex_svm)])\n",
    "TN = sum([s[0] == s[1] and s[1] == -1 for s in zip(train_sex_predict_svm, train_sex_svm)])\n",
    "FP = sum([s[0] != s[1] and s[1] == -1 for s in zip(train_sex_predict_svm, train_sex_svm)])\n",
    "FN = sum([s[0] != s[1] and s[1] == 1 for s in zip(train_sex_predict_svm, train_sex_svm)])\n",
    "TPR = TP * 1.0 / (TP + FN) \n",
    "TNR = TN * 1.0 / (TN + FP)\n",
    "precision = sum([s[0] == s[1] for s in zip(train_sex_predict_svm, train_sex_svm)]) * 1.0 \\\n",
    "                / len(train_sex_predict_svm)\n",
    "recall = sum([s[0] == s[1] and s[1] == 1 for s in zip(train_sex_predict_svm, train_sex_svm)]) * 1.0 \\\n",
    "                / sum([s == 1 for s in train_sex_svm])\n",
    "#F1 = 2 * (precision + recall) * 1.0 / (precision + recall)\n",
    "print \"TPR\", TPR\n",
    "print \"TNR\", TNR\n",
    "print \"BER\", 1 - (TPR + TNR) * 1.0 / 2\n",
    "#print \"F1\", F1"
   ]
  },
  {
   "cell_type": "code",
   "execution_count": 13,
   "metadata": {},
   "outputs": [
    {
     "data": {
      "text/plain": [
       "0.72084176446782677"
      ]
     },
     "execution_count": 13,
     "metadata": {},
     "output_type": "execute_result"
    }
   ],
   "source": [
    "precision"
   ]
  },
  {
   "cell_type": "code",
   "execution_count": 28,
   "metadata": {
    "collapsed": true
   },
   "outputs": [],
   "source": [
    "### Data Validating ###\n",
    "valid_features = []\n",
    "valid_sex = []\n",
    "valid_sex_svm = []\n",
    "\n",
    "for l in crime_data[200000:500000]:\n",
    "    if \"Yes\" in l[10] and (\"Male\" or \"Female\" in l[15]):\n",
    "        weapon = [\"Handgun\" in l[20], \"Knife\" in l[20], \"Blunt Object\" in l[20], \"Firearm\" in l[20],\n",
    "                  \"Unknown\" in l[20], \"Shotgun\" in l[20], \"Rifle\" in l[20], \"Strangulation\" in l[20],\n",
    "                  \"Fire\" in l[20], \"Suffocation\" in l[20], \"Gun\" in l[20], \"Drugs\" in l[20],\n",
    "                  \"Drowning\" in l[20], \"Explosives\" in l[20], \"Poison\" in l[20], \"Fall\" in l[20]]\n",
    "        relationship = [\"Stepmother\" in l[19], \"Employee\" in l[19], \"Employer\" in l[19],\n",
    "                        \"Ex-Husband\" in l[19], \"Stepdaughter\" in l[19], \"Stepson\" in l[19],\n",
    "                        \"Sister\" in l[19], \"Stepfather\" in l[19], \"friend\" in l[19],\n",
    "                        \"Common-Law Husband\" in l[19], \"Ex-Wife\" in l[19], \"Common-Law Wife\" in l[19],\n",
    "                        \"In-Law\" in l[19], \"Mother\" in l[19], \"Father\" in l[19],\n",
    "                        \"Brother\" in l[19], \"Neighbor\" in l[19],\n",
    "                        \"Daughter\" in l[19], \"Husband\" in l[19], \"Family\" in l[19],\n",
    "                        \"Son\" in l[19], \"Friend\" in l[19], \"Wife\" in l[19],\n",
    "                        \"Stranger\" in l[19], \"Acquaintance\" in l[19]]\n",
    "        killer_ethnicity = [\"Unknown\" in l[18], l[18] == \"Not Hispanic\", l[18] == \"Hispanic\"]\n",
    "        victim_ethnicity = [\"Unknown\" in l[14], l[14] == \"Not Hispanic\", l[14] == \"Hispanic\"]\n",
    "        victim_race = [\"White\" in l[13], \"Black\" in l[13], \"Native American\" in l[13], \n",
    "                       \"Asian\" in l[13], \"Unknown\" in l[13]]\n",
    "        victim_sex = [\"Male\" in l[11], \"Female\" in l[11]]\n",
    "        victim_age = [int(l[12])]\n",
    "        killer_age = [int(l[16])]\n",
    "        \n",
    "        # Know nothing about the killer\n",
    "        feature_arr_valid = victim_ethnicity + victim_sex + victim_age  + victim_race + [1]\n",
    "        # Train whether the killer is a male or a female\n",
    "        valid_sex.append(\"Male\" in l[15])\n",
    "        valid_features.append(feature_arr_valid)\n",
    "        \n",
    "        # Using SVM to train\n",
    "        if \"Male\" in l[15]:\n",
    "            valid_sex_svm.append(1)\n",
    "        elif \"Female\" in l[15]:\n",
    "            valid_sex_svm.append(-1)"
   ]
  },
  {
   "cell_type": "code",
   "execution_count": 30,
   "metadata": {
    "collapsed": false
   },
   "outputs": [
    {
     "name": "stdout",
     "output_type": "stream",
     "text": [
      "Weighting method\nTPR 0.716152569409\nTNR 0.475774857426\nBER 0.404036286583\n"
     ]
    }
   ],
   "source": [
    "# weight valid\n",
    "valid_sex_predict_svm = clf_w.predict(valid_features)\n",
    "TP = sum([s[0] == s[1] and s[1] == 1 for s in zip(valid_sex_predict_svm, valid_sex_svm)])\n",
    "TN = sum([s[0] == s[1] and s[1] == -1 for s in zip(valid_sex_predict_svm, valid_sex_svm)])\n",
    "FP = sum([s[0] != s[1] and s[1] == -1 for s in zip(valid_sex_predict_svm, valid_sex_svm)])\n",
    "FN = sum([s[0] != s[1] and s[1] == 1 for s in zip(valid_sex_predict_svm, valid_sex_svm)])\n",
    "TPR = TP * 1.0 / (TP + FN) \n",
    "TNR = TN * 1.0 / (TN + FP)\n",
    "precision = sum([s[0] == s[1] for s in zip(valid_sex_predict_svm, valid_sex_svm)]) * 1.0 \\\n",
    "                / len(valid_sex_predict_svm)\n",
    "recall = sum([s[0] == s[1] and s[1] == 1 for s in zip(valid_sex_predict_svm, valid_sex_svm)]) * 1.0 \\\n",
    "                / sum([s == 1 for s in valid_sex_svm])\n",
    "F1 = 2 * (precision + recall) * 1.0 / (precision + recall)\n",
    "print \"Weighting method\"\n",
    "print \"TPR\", TPR\n",
    "print \"TNR\", TNR\n",
    "print \"BER\", 1 - (TPR + TNR) * 1.0 / 2\n",
    "#print \"F1\", F1"
   ]
  },
  {
   "cell_type": "code",
   "execution_count": 12,
   "metadata": {
    "collapsed": false
   },
   "outputs": [
    {
     "name": "stdout",
     "output_type": "stream",
     "text": [
      "Oversampling method\nTPR 0.902159855147\nTNR 0.229456979916\nBER 0.434191582468\n"
     ]
    }
   ],
   "source": [
    "# oversampling valid\n",
    "valid_sex_predict_svm = clf_over.predict(valid_features)\n",
    "TP = sum([s[0] == s[1] and s[1] == 1 for s in zip(valid_sex_predict_svm, valid_sex_svm)])\n",
    "TN = sum([s[0] == s[1] and s[1] == -1 for s in zip(valid_sex_predict_svm, valid_sex_svm)])\n",
    "FP = sum([s[0] != s[1] and s[1] == -1 for s in zip(valid_sex_predict_svm, valid_sex_svm)])\n",
    "FN = sum([s[0] != s[1] and s[1] == 1 for s in zip(valid_sex_predict_svm, valid_sex_svm)])\n",
    "TPR = TP * 1.0 / (TP + FN) \n",
    "TNR = TN * 1.0 / (TN + FP)\n",
    "precision = sum([s[0] == s[1] for s in zip(valid_sex_predict_svm, valid_sex_svm)]) * 1.0 \\\n",
    "                / len(valid_sex_predict_svm)\n",
    "recall = sum([s[0] == s[1] and s[1] == 1 for s in zip(valid_sex_predict_svm, valid_sex_svm)]) * 1.0 \\\n",
    "                / sum([s == 1 for s in valid_sex_svm])\n",
    "F1 = 2 * (precision + recall) * 1.0 / (precision + recall)\n",
    "print \"Oversampling method\"\n",
    "print \"TPR\", TPR\n",
    "print \"TNR\", TNR\n",
    "print \"BER\", 1 - (TPR + TNR) * 1.0 / 2\n",
    "#print \"F1\", F1"
   ]
  },
  {
   "cell_type": "code",
   "execution_count": 12,
   "metadata": {
    "collapsed": false
   },
   "outputs": [],
   "source": [
    "from imblearn.over_sampling import SMOTE\n",
    "X = train_features\n",
    "y = train_sex\n",
    "sm = SMOTE(kind='svm')\n",
    "X_resampled, y_resampled = sm.fit_sample(X, y)\n",
    "\n",
    "# Logestic Regression\n",
    "lam = 0.1\n",
    "theta,_,_ = scipy.optimize.fmin_l_bfgs_b(f, [0]*len(feature_arr), fprime, pgtol=10, \n",
    "                                         args=(X_resampled, y_resampled, lam))"
   ]
  },
  {
   "cell_type": "code",
   "execution_count": 22,
   "metadata": {
    "collapsed": false
   },
   "outputs": [
    {
     "name": "stdout",
     "output_type": "stream",
     "text": [
      "Training: Accuracy of Killer sex given only victim info =  0.636223883726\nTPR 0.681019830028\nTNR 0.35327198364\nBER 0.482854093166\n"
     ]
    }
   ],
   "source": [
    "train_sex_predict = [sigmoid(inner(theta, x)) > 0.5 for x in train_features]\n",
    "train_correct = [(a == b) for (a,b) in zip(train_sex_predict,train_sex)]\n",
    "train_accuracy = sum(train_correct) * 1.0 / len(train_correct)\n",
    "print \"Training: Accuracy of Killer sex given only victim info = \", train_accuracy\n",
    "\n",
    "\n",
    "TP = sum([s[0] == s[1] and s[1] == 1 for s in zip(train_sex_predict, train_sex)])\n",
    "TN = sum([s[0] == s[1] and s[1] == 0 for s in zip(train_sex_predict, train_sex)])\n",
    "FP = sum([s[0] != s[1] and s[1] == 0 for s in zip(train_sex_predict, train_sex)])\n",
    "FN = sum([s[0] != s[1] and s[1] == 1 for s in zip(train_sex_predict, train_sex)])\n",
    "TPR = TP * 1.0 / (TP + FN) \n",
    "TNR = TN * 1.0 / (TN + FP)\n",
    "precision = sum([s[0] == s[1] for s in zip(train_sex_predict, train_sex)]) * 1.0 \\\n",
    "                / len(train_sex_predict)\n",
    "recall = sum([s[0] == s[1] and s[1] == 1 for s in zip(train_sex_predict, train_sex)]) * 1.0 \\\n",
    "                / sum([s == 1 for s in train_sex])\n",
    "#F1 = 2 * (precision + recall) * 1.0 / (precision + recall)\n",
    "print \"TPR\", TPR\n",
    "print \"TNR\", TNR\n",
    "print \"BER\", 1 - (TPR + TNR) * 1.0 / 2"
   ]
  },
  {
   "cell_type": "code",
   "execution_count": 23,
   "metadata": {},
   "outputs": [
    {
     "data": {
      "text/plain": [
       "0.6362238837258053"
      ]
     },
     "execution_count": 23,
     "metadata": {},
     "output_type": "execute_result"
    }
   ],
   "source": [
    "precision"
   ]
  },
  {
   "cell_type": "code",
   "execution_count": null,
   "metadata": {
    "collapsed": true
   },
   "outputs": [],
   "source": [
    ""
   ]
  }
 ],
 "metadata": {
  "anaconda-cloud": {},
  "kernelspec": {
   "display_name": "Python [default]",
   "language": "python",
   "name": "python2"
  },
  "language_info": {
   "codemirror_mode": {
    "name": "ipython",
    "version": 2.0
   },
   "file_extension": ".py",
   "mimetype": "text/x-python",
   "name": "python",
   "nbconvert_exporter": "python",
   "pygments_lexer": "ipython2",
   "version": "2.7.12"
  }
 },
 "nbformat": 4,
 "nbformat_minor": 0
}