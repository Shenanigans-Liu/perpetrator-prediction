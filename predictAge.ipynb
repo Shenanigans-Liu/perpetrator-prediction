{
 "cells": [
  {
   "cell_type": "code",
   "execution_count": 1,
   "metadata": {
    "collapsed": true
   },
   "outputs": [
    {
     "name": "stdout",
     "output_type": "stream",
     "text": [
      "Reading data...\n"
     ]
    },
    {
     "name": "stdout",
     "output_type": "stream",
     "text": [
      "done\n"
     ]
    }
   ],
   "source": [
    "import scipy.optimize\n",
    "import csv\n",
    "import random\n",
    "from sklearn import linear_model\n",
    "from collections import defaultdict\n",
    "\n",
    "def parseDataFromFile(fname):\n",
    "    cursor = open(fname,'r')\n",
    "    csvreader = csv.reader(cursor,delimiter=';')\n",
    "    return csvreader\n",
    "      \n",
    "print \"Reading data...\"\n",
    "data = parseDataFromFile(\"Assignment2/database.csv\")\n",
    "data = list(data)\n",
    "print \"done\"\n",
    "\n",
    "\n",
    "### Preprocessing data ###\n",
    "crime_data = [l[0].split(\",\") for l in data[1:]]\n",
    "race_type = defaultdict(int)\n",
    "crime_train_data = crime_data[:300000]\n",
    "random.shuffle(crime_train_data)"
   ]
  },
  {
   "cell_type": "code",
   "execution_count": 3,
   "metadata": {},
   "outputs": [],
   "source": [
    "##### Predicting Killer Age #####\n",
    "\n",
    "### data initialization ###\n",
    "states_age = defaultdict(int) # store average age for each state\n",
    "states_number = defaultdict(int) # store number of criminal in each state\n",
    "global_avgAge = 0 # global average age for killer\n",
    "counter = 0\n",
    "\n",
    "features = []\n",
    "age = []\n",
    "\n",
    "for l in crime_train_data:\n",
    "    if \"Yes\" in l[10] and (int(l[16]) < 100 and int(l[16]) > 0):\n",
    "        states_age[l[5]] += int(l[16])\n",
    "        states_number[l[5]] += 1\n",
    "        global_avgAge += int(l[16])\n",
    "        counter += 1\n",
    "            \n",
    "for s in states_age:\n",
    "    states_age[s] = states_age[s] * 1.0 / states_number[s]\n",
    "global_avgAge = global_avgAge * 1.0 / counter\n",
    "\n",
    "\n",
    "### Data Training ###\n",
    "for l in crime_train_data:\n",
    "    if \"Yes\" in l[10] and (int(l[16]) < 100 and int(l[16]) > 0):\n",
    "        weapon = [\"Handgun\" in l[20], \"Knife\" in l[20], \"Blunt Object\" in l[20], \"Firearm\" in l[20],\n",
    "                  \"Unknown\" in l[20], \"Shotgun\" in l[20], \"Rifle\" in l[20], \"Strangulation\" in l[20],\n",
    "                  \"Fire\" in l[20], \"Suffocation\" in l[20], \"Gun\" in l[20], \"Drugs\" in l[20],\n",
    "                  \"Drowning\" in l[20], \"Explosives\" in l[20], \"Poison\" in l[20], \"Fall\" in l[20]]\n",
    "        relationship = [\"Stepmother\" in l[19], \"Employee\" in l[19], \"Employer\" in l[19],\n",
    "                        \"Ex-Husband\" in l[19], \"Stepdaughter\" in l[19], \"Stepson\" in l[19],\n",
    "                        \"Sister\" in l[19], \"Stepfather\" in l[19], \"friend\" in l[19],\n",
    "                        \"Common-Law Husband\" in l[19], \"Ex-Wife\" in l[19], \"Common-Law Wife\" in l[19],\n",
    "                        \"In-Law\" in l[19], \"Mother\" in l[19], \"Father\" in l[19],\n",
    "                        \"Brother\" in l[19], \"Neighbor\" in l[19],\n",
    "                        \"Daughter\" in l[19], \"Husband\" in l[19], \"Family\" in l[19],\n",
    "                        \"Son\" in l[19], \"Friend\" in l[19], \"Wife\" in l[19],\n",
    "                        \"Stranger\" in l[19], \"Acquaintance\" in l[19]]\n",
    "        killer_ethnicity = [\"Unknown\" in l[18], l[18] == \"Not Hispanic\", l[18] == \"Hispanic\"]\n",
    "        victim_ethnicity = [\"Unknown\" in l[14], l[14] == \"Not Hispanic\", l[14] == \"Hispanic\"]\n",
    "        victim_race = [\"White\" in l[13], \"Black\" in l[13], \"Native American\" in l[13], \n",
    "                       \"Asian\" in l[13], \"Unknown\" in l[13]]\n",
    "        victim_sex = [\"Male\" in l[11], \"Female\" in l[11]]\n",
    "        victim_age = [int(l[12])]\n",
    "        killer_sex = [\"Male\" in l[15], \"Female\" in l[15]]\n",
    "        killer_race = [\"White\" in l[17], \"Black\" in l[17], \"Native American\" in l[17], \n",
    "                       \"Asian\" in l[17], \"Unknown\" in l[17]]\n",
    "        year = [int(l[6])]\n",
    "        \n",
    "        #bias = states_age[l[5]] - global_avgAge\n",
    "        \n",
    "        # Know nothing about the killer\n",
    "        feature_arr = year + victim_ethnicity + victim_sex + victim_age + victim_race + killer_sex + killer_race + [1]\n",
    "        # Train killer age\n",
    "        age.append(int(l[16]))\n",
    "        features.append(feature_arr)"
   ]
  },
  {
   "cell_type": "code",
   "execution_count": 5,
   "metadata": {},
   "outputs": [
    {
     "name": "stdout",
     "output_type": "stream",
     "text": [
      "Training: MAE for predicting killer's age =  8.93518556736\n"
     ]
    }
   ],
   "source": [
    "#### Logistic Regression Training ####\n",
    "train_features = features\n",
    "train_age = age\n",
    "\n",
    "clf = linear_model.Ridge(0.01, fit_intercept=False)\n",
    "clf.fit(train_features, train_age)\n",
    "theta = clf.coef_\n",
    "train_age_predict = clf.predict(train_features)\n",
    "\n",
    "# Linear Regression\n",
    "#theta,residuals,rank,s = numpy.linalg.lstsq(train_features, train_age)\n",
    "\n",
    "errors = [abs(a - b) for (a,b) in zip(train_age_predict, train_age)]\n",
    "MAE_train = sum(errors)*1.0 / len(train_age_predict)\n",
    "print \"Training: MAE for predicting killer's age = \", MAE_train"
   ]
  },
  {
   "cell_type": "code",
   "execution_count": 6,
   "metadata": {},
   "outputs": [],
   "source": [
    "##### Predicting Killer Age #####\n",
    "features = []\n",
    "age = []\n",
    "age_bias = []\n",
    "\n",
    "### Data Training ###\n",
    "for l in crime_data[300000:350000]:\n",
    "    if \"Yes\" in l[10] and (int(l[16]) > 0 and int(l[16]) < 100):\n",
    "        weapon = [\"Handgun\" in l[20], \"Knife\" in l[20], \"Blunt Object\" in l[20], \"Firearm\" in l[20],\n",
    "                  \"Unknown\" in l[20], \"Shotgun\" in l[20], \"Rifle\" in l[20], \"Strangulation\" in l[20],\n",
    "                  \"Fire\" in l[20], \"Suffocation\" in l[20], \"Gun\" in l[20], \"Drugs\" in l[20],\n",
    "                  \"Drowning\" in l[20], \"Explosives\" in l[20], \"Poison\" in l[20], \"Fall\" in l[20]]\n",
    "        relationship = [\"Stepmother\" in l[19], \"Employee\" in l[19], \"Employer\" in l[19],\n",
    "                        \"Ex-Husband\" in l[19], \"Stepdaughter\" in l[19], \"Stepson\" in l[19],\n",
    "                        \"Sister\" in l[19], \"Stepfather\" in l[19], \"friend\" in l[19],\n",
    "                        \"Common-Law Husband\" in l[19], \"Ex-Wife\" in l[19], \"Common-Law Wife\" in l[19],\n",
    "                        \"In-Law\" in l[19], \"Mother\" in l[19], \"Father\" in l[19],\n",
    "                        \"Brother\" in l[19], \"Neighbor\" in l[19],\n",
    "                        \"Daughter\" in l[19], \"Husband\" in l[19], \"Family\" in l[19],\n",
    "                        \"Son\" in l[19], \"Friend\" in l[19], \"Wife\" in l[19],\n",
    "                        \"Stranger\" in l[19], \"Acquaintance\" in l[19]]\n",
    "        killer_ethnicity = [\"Unknown\" in l[18], l[18] == \"Not Hispanic\", l[18] == \"Hispanic\"]\n",
    "        victim_ethnicity = [\"Unknown\" in l[14], l[14] == \"Not Hispanic\", l[14] == \"Hispanic\"]\n",
    "        victim_race = [\"White\" in l[13], \"Black\" in l[13], \"Native American\" in l[13], \n",
    "                       \"Asian\" in l[13], \"Unknown\" in l[13]]\n",
    "        victim_sex = [\"Male\" in l[11], \"Female\" in l[11]]\n",
    "        victim_age = [int(l[12])]\n",
    "        killer_sex = [\"Male\" in l[15], \"Female\" in l[15]]\n",
    "        killer_race = [\"White\" in l[17], \"Black\" in l[17], \"Native American\" in l[17], \n",
    "                       \"Asian\" in l[17], \"Unknown\" in l[17]]\n",
    "        year = [int(l[6])]\n",
    "        \n",
    "        bias = states_age[l[5]] - global_avgAge\n",
    "        \n",
    "        # Know nothing about the killer\n",
    "        feature_arr =  year + victim_ethnicity + victim_sex  + victim_age + victim_race + killer_sex + killer_race + [1]\n",
    "        # Train killer age\n",
    "        age.append(int(l[16]))\n",
    "        features.append(feature_arr)\n",
    "        age_bias.append(bias)"
   ]
  },
  {
   "cell_type": "code",
   "execution_count": 7,
   "metadata": {
    "collapsed": false
   },
   "outputs": [
    {
     "name": "stdout",
     "output_type": "stream",
     "text": [
      "Testing: MAE for predicting killer's age =  8.52921334012\n"
     ]
    }
   ],
   "source": [
    "#### Logistic Regression Testing ###\n",
    "test_features = features\n",
    "test_age = age\n",
    "test_age_predict = []\n",
    "\n",
    "prediction = clf.predict(test_features)\n",
    "\n",
    "for i in range(0,len(prediction)):\n",
    "    if prediction[i] <= 18:\n",
    "        test_age_predict.append(global_avgAge)\n",
    "    elif prediction[i] >= 55:\n",
    "        test_age_predict.append(global_avgAge)\n",
    "        #test_age_predict[i] = global_avgAge + age_bias[i]*0.4\n",
    "    else:\n",
    "        test_age_predict.append(prediction[i] + age_bias[i]*0.5)\n",
    "#test_age_predict = [x + y*0.4 for (x,y) in zip(prediction, age_bias)]\n",
    "MAE_test = sum([abs(round(a) - b) for (a,b) in zip(test_age_predict, test_age)]) * 1.0 \\\n",
    "            / len(test_age_predict)\n",
    "print \"Testing: MAE for predicting killer's age = \", MAE_test"
   ]
  },
  {
   "cell_type": "code",
   "execution_count": 70,
   "metadata": {},
   "outputs": [
    {
     "name": "stdout",
     "output_type": "stream",
     "text": [
      "Testing: MAE for trivially predicting killer's age =  9.98066221103\n"
     ]
    }
   ],
   "source": [
    "MAE_test = sum([abs(global_avgAge - b) for (a,b) in zip(test_age_predict, test_age)]) * 1.0 \\\n",
    "            / len(test_age_predict)\n",
    "print \"Testing: MAE for trivially predicting killer's age = \", MAE_test"
   ]
  },
  {
   "cell_type": "code",
   "execution_count": null,
   "metadata": {},
   "outputs": [],
   "source": [
    ""
   ]
  }
 ],
 "metadata": {
  "kernelspec": {
   "display_name": "Python 2",
   "language": "python",
   "name": "python2"
  },
  "language_info": {
   "codemirror_mode": {
    "name": "ipython",
    "version": 2.0
   },
   "file_extension": ".py",
   "mimetype": "text/x-python",
   "name": "python",
   "nbconvert_exporter": "python",
   "pygments_lexer": "ipython2",
   "version": "2.7.6"
  }
 },
 "nbformat": 4,
 "nbformat_minor": 0
}